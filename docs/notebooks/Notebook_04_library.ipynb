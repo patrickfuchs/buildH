{
 "cells": [
  {
   "cell_type": "markdown",
   "id": "aaad01f1",
   "metadata": {},
   "source": [
    "# Notebook04: Use **buildH** as a module\n",
    "\n",
    "**buildH** is intended to be used mainly in the Unix command line but also as a module to a lesser extent. The features available are minimal: you can just call the main function of **buildH** and result files will be written. \n",
    "\n",
    "It is not a proper API but more a way to call **buildH** inside larger analysis python scripts."
   ]
  },
  {
   "cell_type": "markdown",
   "id": "bdd9fbac",
   "metadata": {},
   "source": [
    "## Checking **buildH** activation\n",
    "\n",
    "As explained in [Notebook01](Notebook_01_buildH_calc_OP.ipynb), you should have activated **buildH** before launching this notebook."
   ]
  },
  {
   "cell_type": "code",
   "execution_count": 1,
   "id": "6bba0a5d",
   "metadata": {},
   "outputs": [
    {
     "name": "stdout",
     "output_type": "stream",
     "text": [
      "1.4.0\n"
     ]
    }
   ],
   "source": [
    "import buildh\n",
    "print(buildh.__version__)"
   ]
  },
  {
   "cell_type": "markdown",
   "id": "8e916cd3",
   "metadata": {},
   "source": [
    "## Download data files\n",
    "\n",
    "We will use the same data files as the ones in [Notebook01](Notebook_01_buildH_calc_OP.ipynb) : the Berger POPC test case."
   ]
  },
  {
   "cell_type": "code",
   "execution_count": 2,
   "id": "d24f4d65",
   "metadata": {},
   "outputs": [
    {
     "name": "stdout",
     "output_type": "stream",
     "text": [
      "--2021-06-28 13:07:25--  https://raw.githubusercontent.com/patrickfuchs/buildH/master/docs/Berger_POPC_test_case/start_128popc.pdb\n",
      "Résolution de raw.githubusercontent.com (raw.githubusercontent.com)… 185.199.110.133, 185.199.109.133, 185.199.108.133, ...\n",
      "Connexion à raw.githubusercontent.com (raw.githubusercontent.com)|185.199.110.133|:443… connecté.\n",
      "requête HTTP transmise, en attente de la réponse… 200 OK\n",
      "Taille : 2253759 (2,1M) [text/plain]\n",
      "Enregistre : «start_128popc.pdb»\n",
      "\n",
      "start_128popc.pdb   100%[===================>]   2,15M  --.-KB/s    ds 0,04s   \n",
      "\n",
      "2021-06-28 13:07:25 (49,5 MB/s) - «start_128popc.pdb» enregistré [2253759/2253759]\n",
      "\n",
      "--2021-06-28 13:07:25--  https://raw.githubusercontent.com/patrickfuchs/buildH/master/docs/Berger_POPC_test_case/popc0-25ns_dt1000.xtc\n",
      "Résolution de raw.githubusercontent.com (raw.githubusercontent.com)… 185.199.110.133, 185.199.109.133, 185.199.108.133, ...\n",
      "Connexion à raw.githubusercontent.com (raw.githubusercontent.com)|185.199.110.133|:443… connecté.\n",
      "requête HTTP transmise, en attente de la réponse… 200 OK\n",
      "Taille : 2725936 (2,6M) [application/octet-stream]\n",
      "Enregistre : «popc0-25ns_dt1000.xtc»\n",
      "\n",
      "popc0-25ns_dt1000.x 100%[===================>]   2,60M  --.-KB/s    ds 0,06s   \n",
      "\n",
      "2021-06-28 13:07:26 (43,0 MB/s) - «popc0-25ns_dt1000.xtc» enregistré [2725936/2725936]\n",
      "\n",
      "--2021-06-28 13:07:26--  https://raw.githubusercontent.com/patrickfuchs/buildH/master/def_files/Berger_POPC.def\n",
      "Résolution de raw.githubusercontent.com (raw.githubusercontent.com)… 185.199.110.133, 185.199.109.133, 185.199.108.133, ...\n",
      "Connexion à raw.githubusercontent.com (raw.githubusercontent.com)|185.199.110.133|:443… connecté.\n",
      "requête HTTP transmise, en attente de la réponse… 200 OK\n",
      "Taille : 2135 (2,1K) [text/plain]\n",
      "Enregistre : «Berger_POPC.def»\n",
      "\n",
      "Berger_POPC.def     100%[===================>]   2,08K  --.-KB/s    ds 0s      \n",
      "\n",
      "2021-06-28 13:07:26 (15,7 MB/s) - «Berger_POPC.def» enregistré [2135/2135]\n",
      "\n"
     ]
    }
   ],
   "source": [
    "# Coordinate file\n",
    "!wget https://raw.githubusercontent.com/patrickfuchs/buildH/master/docs/Berger_POPC_test_case/start_128popc.pdb\n",
    "# Trajectory file\n",
    "!wget https://raw.githubusercontent.com/patrickfuchs/buildH/master/docs/Berger_POPC_test_case/popc0-25ns_dt1000.xtc\n",
    "# Def file\n",
    "!wget https://raw.githubusercontent.com/patrickfuchs/buildH/master/def_files/Berger_POPC.def"
   ]
  },
  {
   "cell_type": "markdown",
   "id": "449e468e",
   "metadata": {},
   "source": [
    "## **buildH** as a module\n",
    "\n",
    "The only function accessible is the main one of **buildH**: `buildh.launch()`. It has the same arguments than the **buildH** command line (see [Command line options](../command_line_options.md) and [api implementation](../api/UI.rst#buildh.UI.launch)):"
   ]
  },
  {
   "cell_type": "code",
   "execution_count": 3,
   "id": "fe0ba2a1",
   "metadata": {},
   "outputs": [
    {
     "name": "stdout",
     "output_type": "stream",
     "text": [
      "Help on function launch in module buildh.UI:\n",
      "\n",
      "launch(coord_file, def_file, lipid_type, traj_file=None, out_file='OP_buildH.out', prefix_traj_ouput=None, begin=None, end=None, lipid_jsons=None)\n",
      "    Launch BuildH calculations.\n",
      "    \n",
      "    This is the only function which can be called inside a Python script to use BuildH as a module.\n",
      "    It checks the different arguments and call the main function.\n",
      "    \n",
      "    Parameters\n",
      "    ----------\n",
      "    coord_file : str\n",
      "        Coordinate file. Only .pdb and .gro files are currently supported.\n",
      "    def_file : str\n",
      "        Order parameter definition file.\n",
      "    lipid_type : str\n",
      "        Combinaison of ForceField name and residue name for the lipid to calculate the OP on (e.g. Berger_POPC).\n",
      "        It must match with the internal topology files or the one(s) supplied.\n",
      "    traj_file : str, optional\n",
      "        Trajectory file (could be in XTC, TRR or DCD format), by default None.\n",
      "    out_file : str, optional\n",
      "        Output file name for storing order parameters, by default \"OP_buildH.out\".\n",
      "    prefix_traj_ouput : str, optional\n",
      "        Base name for trajectory output with hydrogens.\n",
      "        File extension will be automatically added.\n",
      "        By default None.\n",
      "    begin : int, optional\n",
      "        The first frame (ps) to read from the trajectory, by default None.\n",
      "    end : int, optional\n",
      "        The last frame (ps) to read from the trajectory, by default None.\n",
      "    lipid_jsons : list, optional\n",
      "        User topology lipid json file(s), by default None.\n",
      "    \n",
      "    Raises\n",
      "    ------\n",
      "    FileNotFoundError\n",
      "        When either coord_file, def_file or the traj_file is missing.\n",
      "    TypeError\n",
      "        When lipid_jsons is not a list.\n",
      "    BuildHError\n",
      "        When something went wront during calculation.\n",
      "\n"
     ]
    }
   ],
   "source": [
    "help(buildh.launch)"
   ]
  },
  {
   "cell_type": "markdown",
   "id": "5182f163",
   "metadata": {},
   "source": [
    "Now, we can call `launch()` with the correct arguments:"
   ]
  },
  {
   "cell_type": "code",
   "execution_count": 4,
   "id": "7bcf8327",
   "metadata": {},
   "outputs": [
    {
     "name": "stdout",
     "output_type": "stream",
     "text": [
      "Constructing the system...\n"
     ]
    },
    {
     "name": "stderr",
     "output_type": "stream",
     "text": [
      "/home/pierre/.soft/miniconda3/envs/buildh/lib/python3.9/site-packages/MDAnalysis/topology/base.py:203: DeprecationWarning: `np.int` is a deprecated alias for the builtin `int`. To silence this warning, use `int` by itself. Doing this will not modify any behavior and is safe. When replacing `np.int`, you may wish to use e.g. `np.int64` or `np.int32` to specify the precision. If you wish to review your current use, check the release note link for additional information.\n",
      "Deprecated in NumPy 1.20; for more details and guidance: https://numpy.org/devdocs/release/1.20.0-notes.html#deprecations\n",
      "  residx = np.zeros_like(criteria[0], dtype=np.int)\n",
      "/home/pierre/.soft/miniconda3/envs/buildh/lib/python3.9/site-packages/MDAnalysis/coordinates/XDR.py:216: UserWarning: Reload offsets from trajectory\n",
      " ctime or size or n_atoms did not match\n",
      "  warnings.warn(\"Reload offsets from trajectory\\n \"\n",
      "/home/pierre/.soft/miniconda3/envs/buildh/lib/python3.9/site-packages/MDAnalysis/core/selection.py:521: DeprecationWarning: `np.bool` is a deprecated alias for the builtin `bool`. To silence this warning, use `bool` by itself. Doing this will not modify any behavior and is safe. If you specifically wanted the numpy scalar type, use `np.bool_` here.\n",
      "Deprecated in NumPy 1.20; for more details and guidance: https://numpy.org/devdocs/release/1.20.0-notes.html#deprecations\n",
      "  mask = np.zeros(len(group), dtype=np.bool)\n"
     ]
    },
    {
     "name": "stdout",
     "output_type": "stream",
     "text": [
      "System has 28526 atoms\n",
      "Dealing with frame 0 at 0.0 ps.\n",
      "Dealing with frame 1 at 1000.0 ps.\n",
      "Dealing with frame 2 at 2000.0 ps.\n"
     ]
    },
    {
     "name": "stderr",
     "output_type": "stream",
     "text": [
      "/home/pierre/.soft/miniconda3/envs/buildh/lib/python3.9/site-packages/MDAnalysis/core/selection.py:521: DeprecationWarning: `np.bool` is a deprecated alias for the builtin `bool`. To silence this warning, use `bool` by itself. Doing this will not modify any behavior and is safe. If you specifically wanted the numpy scalar type, use `np.bool_` here.\n",
      "Deprecated in NumPy 1.20; for more details and guidance: https://numpy.org/devdocs/release/1.20.0-notes.html#deprecations\n",
      "  mask = np.zeros(len(group), dtype=np.bool)\n"
     ]
    },
    {
     "name": "stdout",
     "output_type": "stream",
     "text": [
      "Dealing with frame 3 at 3000.0 ps.\n",
      "Dealing with frame 4 at 4000.0 ps.\n",
      "Dealing with frame 5 at 5000.0 ps.\n",
      "Dealing with frame 6 at 6000.0 ps.\n",
      "Dealing with frame 7 at 7000.0 ps.\n",
      "Dealing with frame 8 at 8000.0 ps.\n",
      "Dealing with frame 9 at 9000.0 ps.\n",
      "Dealing with frame 10 at 10000.0 ps.\n",
      "Dealing with frame 11 at 11000.0 ps.\n",
      "Dealing with frame 12 at 12000.0 ps.\n",
      "Dealing with frame 13 at 13000.0 ps.\n",
      "Dealing with frame 14 at 14000.0 ps.\n",
      "Dealing with frame 15 at 15000.0 ps.\n",
      "Dealing with frame 16 at 16000.0 ps.\n",
      "Dealing with frame 17 at 17000.0 ps.\n",
      "Dealing with frame 18 at 18000.0 ps.\n",
      "Dealing with frame 19 at 19000.0 ps.\n",
      "Dealing with frame 20 at 20000.0 ps.\n",
      "Dealing with frame 21 at 21000.0 ps.\n",
      "Dealing with frame 22 at 22000.0 ps.\n",
      "Dealing with frame 23 at 23000.0 ps.\n",
      "Dealing with frame 24 at 24000.0 ps.\n",
      "Dealing with frame 25 at 25000.0 ps.\n",
      "Results written to OP_POPC.dat\n"
     ]
    }
   ],
   "source": [
    "buildh.launch(\"start_128popc.pdb\", \"Berger_POPC.def\", \"Berger_POPC\", traj_file=\"popc0-25ns_dt1000.xtc\", out_file=\"OP_POPC.dat\")"
   ]
  },
  {
   "cell_type": "markdown",
   "id": "73eb869f",
   "metadata": {},
   "source": [
    "The order parameters are in `OP_POPC.dat`."
   ]
  },
  {
   "cell_type": "code",
   "execution_count": 5,
   "id": "2382ae27",
   "metadata": {},
   "outputs": [
    {
     "name": "stdout",
     "output_type": "stream",
     "text": [
      "# OP_name            resname atom1 atom2  OP_mean OP_stddev OP_stem\n",
      "#--------------------------------------------------------------------\n",
      "gamma1_1             POPC    C1    H11    0.01304  0.12090  0.01069\n",
      "gamma1_2             POPC    C1    H12    0.00666  0.09279  0.00820\n",
      "gamma1_3             POPC    C1    H13   -0.01531  0.09141  0.00808\n",
      "gamma2_1             POPC    C2    H21    0.01511  0.12080  0.01068\n",
      "gamma2_2             POPC    C2    H22   -0.02050  0.09386  0.00830\n",
      "gamma2_3             POPC    C2    H23   -0.00660  0.09137  0.00808\n",
      "gamma3_1             POPC    C3    H31    0.01430  0.11796  0.01043\n",
      "gamma3_2             POPC    C3    H32   -0.00513  0.08670  0.00766\n"
     ]
    }
   ],
   "source": [
    "!head OP_POPC.dat"
   ]
  },
  {
   "cell_type": "code",
   "execution_count": null,
   "id": "0683020e-7177-488b-9f95-a93c46c5826c",
   "metadata": {},
   "outputs": [],
   "source": []
  }
 ],
 "metadata": {
  "kernelspec": {
   "display_name": "Python 3",
   "language": "python",
   "name": "python3"
  },
  "language_info": {
   "codemirror_mode": {
    "name": "ipython",
    "version": 3
   },
   "file_extension": ".py",
   "mimetype": "text/x-python",
   "name": "python",
   "nbconvert_exporter": "python",
   "pygments_lexer": "ipython3",
   "version": "3.9.4"
  }
 },
 "nbformat": 4,
 "nbformat_minor": 5
}
